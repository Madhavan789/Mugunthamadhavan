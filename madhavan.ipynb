{
  "nbformat": 4,
  "nbformat_minor": 0,
  "metadata": {
    "colab": {
      "provenance": []
    },
    "kernelspec": {
      "name": "python3",
      "display_name": "Python 3"
    },
    "language_info": {
      "name": "python"
    }
  },
  "cells": [
    {
      "cell_type": "code",
      "execution_count": null,
      "metadata": {
        "id": "6YZ2AuE3C49t"
      },
      "outputs": [],
      "source": []
    },
    {
      "cell_type": "code",
      "execution_count": null,
      "metadata": {
        "colab": {
          "background_save": true
        },
        "id": "2jU41jXKBUJG"
      },
      "outputs": [],
      "source": [
        "class educationchatbot:\n",
        "    def __init__(self,name):\n",
        "         self.name=name\n",
        "         self.response={\"study tips\": \"Here are some study tips: 1) Set specific goals for each study session. 2) Take short breaks to stay focused. 3) Review your notes regularly.\",\n",
        "            \"math\": \"For math, I recommend practicing problems daily and using online resources like Khan Academy or Coursera for video explanations.\",\n",
        "            \"science\": \"You can explore science by watching videos on YouTube channels like CrashCourse or reading articles on websites like National Geographic or Scientific American.\",\n",
        "            \"resources\": \"Some great educational resources include: 1) Coursera, 2) Khan Academy, 3) edX, 4) Udemy.\",\n",
        "            \"exam preparation\": \"Start preparing early, practice past papers, create a study schedule, and ensure you understand key concepts rather than just memorizing.\"\n",
        "        }\n",
        "\n",
        "    def get_response(self,user_input):\n",
        "      user_input=user_input.lower()\n",
        "      for key in self.response:\n",
        "        if key in user_input:\n",
        "            return self.response[key]\n",
        "      return \"I'm sorry, I don't have information on that topic. Can you please clarify your question?\"\n",
        "\n",
        "bot_name=input(\"please give your chatbot name:\")\n",
        "chatbot=educationchatbot(bot_name)\n",
        "\n",
        "print(\"Welcome to {chatbot.name} the Education Chatbot! How can I assist you today? (Type 'exit' to quit)\")\n",
        "\n",
        "while True:\n",
        "    user_input=input(\"you:\")\n",
        "    if user_input.lower()==\"exit\":\n",
        "      print(\"{chatbot.name}: Good luck with your studies!\")\n",
        "      break\n",
        "    response=chatbot.get_response(user_input)\n",
        "    print(f\"{chatbot.name}: {response}\")\n",
        "\n"
      ]
    }
  ]
}